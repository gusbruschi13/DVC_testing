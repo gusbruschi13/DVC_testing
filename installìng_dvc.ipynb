{
 "metadata": {
  "language_info": {
   "codemirror_mode": {
    "name": "ipython",
    "version": 3
   },
   "file_extension": ".py",
   "mimetype": "text/x-python",
   "name": "python",
   "nbconvert_exporter": "python",
   "pygments_lexer": "ipython3",
   "version": "3.9.6"
  },
  "orig_nbformat": 4,
  "kernelspec": {
   "name": "python3",
   "display_name": "Python 3.9.6 64-bit"
  },
  "interpreter": {
   "hash": "8765b7859f10dd70ea78b0274755fa375c48bb9b4690cb2e014cdf679f44e44e"
  }
 },
 "nbformat": 4,
 "nbformat_minor": 2,
 "cells": [
  {
   "cell_type": "markdown",
   "source": [
    "# DVC - Installing\r\n",
    "\r\n",
    "#### Autor: Gustavo Bruschi - Chapter de Dados\r\n",
    "#### E-mail: gustavo.bruschi@saudeid.com.br"
   ],
   "metadata": {}
  },
  {
   "cell_type": "code",
   "execution_count": null,
   "source": [
    "import sys\r\n",
    "!{sys.executable} -m pip install dvc\r\n",
    "!{sys.executable} -m pip install dvc[gdrive]\r\n",
    "!{sys.executable} -m pip install dvc[gs]"
   ],
   "outputs": [],
   "metadata": {}
  }
 ]
}